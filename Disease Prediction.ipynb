{
 "cells": [
  {
   "cell_type": "code",
   "execution_count": 4,
   "metadata": {
    "collapsed": true
   },
   "outputs": [],
   "source": [
    "import pandas as pd\n",
    "import numpy as np"
   ]
  },
  {
   "cell_type": "code",
   "execution_count": 5,
   "metadata": {},
   "outputs": [
    {
     "data": {
      "text/html": [
       "<div>\n",
       "<style>\n",
       "    .dataframe thead tr:only-child th {\n",
       "        text-align: right;\n",
       "    }\n",
       "\n",
       "    .dataframe thead th {\n",
       "        text-align: left;\n",
       "    }\n",
       "\n",
       "    .dataframe tbody tr th {\n",
       "        vertical-align: top;\n",
       "    }\n",
       "</style>\n",
       "<table border=\"1\" class=\"dataframe\">\n",
       "  <thead>\n",
       "    <tr style=\"text-align: right;\">\n",
       "      <th></th>\n",
       "      <th>itching</th>\n",
       "      <th>skin_rash</th>\n",
       "      <th>nodal_skin_eruptions</th>\n",
       "      <th>continuous_sneezing</th>\n",
       "      <th>shivering</th>\n",
       "      <th>chills</th>\n",
       "      <th>joint_pain</th>\n",
       "      <th>stomach_pain</th>\n",
       "      <th>acidity</th>\n",
       "      <th>ulcers_on_tongue</th>\n",
       "      <th>...</th>\n",
       "      <th>blackheads</th>\n",
       "      <th>scurring</th>\n",
       "      <th>skin_peeling</th>\n",
       "      <th>silver_like_dusting</th>\n",
       "      <th>small_dents_in_nails</th>\n",
       "      <th>inflammatory_nails</th>\n",
       "      <th>blister</th>\n",
       "      <th>red_sore_around_nose</th>\n",
       "      <th>yellow_crust_ooze</th>\n",
       "      <th>prognosis</th>\n",
       "    </tr>\n",
       "  </thead>\n",
       "  <tbody>\n",
       "    <tr>\n",
       "      <th>0</th>\n",
       "      <td>1</td>\n",
       "      <td>1</td>\n",
       "      <td>1</td>\n",
       "      <td>0</td>\n",
       "      <td>0</td>\n",
       "      <td>0</td>\n",
       "      <td>0</td>\n",
       "      <td>0</td>\n",
       "      <td>0</td>\n",
       "      <td>0</td>\n",
       "      <td>...</td>\n",
       "      <td>0</td>\n",
       "      <td>0</td>\n",
       "      <td>0</td>\n",
       "      <td>0</td>\n",
       "      <td>0</td>\n",
       "      <td>0</td>\n",
       "      <td>0</td>\n",
       "      <td>0</td>\n",
       "      <td>0</td>\n",
       "      <td>Fungal infection</td>\n",
       "    </tr>\n",
       "    <tr>\n",
       "      <th>1</th>\n",
       "      <td>0</td>\n",
       "      <td>1</td>\n",
       "      <td>1</td>\n",
       "      <td>0</td>\n",
       "      <td>0</td>\n",
       "      <td>0</td>\n",
       "      <td>0</td>\n",
       "      <td>0</td>\n",
       "      <td>0</td>\n",
       "      <td>0</td>\n",
       "      <td>...</td>\n",
       "      <td>0</td>\n",
       "      <td>0</td>\n",
       "      <td>0</td>\n",
       "      <td>0</td>\n",
       "      <td>0</td>\n",
       "      <td>0</td>\n",
       "      <td>0</td>\n",
       "      <td>0</td>\n",
       "      <td>0</td>\n",
       "      <td>Fungal infection</td>\n",
       "    </tr>\n",
       "    <tr>\n",
       "      <th>2</th>\n",
       "      <td>1</td>\n",
       "      <td>0</td>\n",
       "      <td>1</td>\n",
       "      <td>0</td>\n",
       "      <td>0</td>\n",
       "      <td>0</td>\n",
       "      <td>0</td>\n",
       "      <td>0</td>\n",
       "      <td>0</td>\n",
       "      <td>0</td>\n",
       "      <td>...</td>\n",
       "      <td>0</td>\n",
       "      <td>0</td>\n",
       "      <td>0</td>\n",
       "      <td>0</td>\n",
       "      <td>0</td>\n",
       "      <td>0</td>\n",
       "      <td>0</td>\n",
       "      <td>0</td>\n",
       "      <td>0</td>\n",
       "      <td>Fungal infection</td>\n",
       "    </tr>\n",
       "    <tr>\n",
       "      <th>3</th>\n",
       "      <td>1</td>\n",
       "      <td>1</td>\n",
       "      <td>0</td>\n",
       "      <td>0</td>\n",
       "      <td>0</td>\n",
       "      <td>0</td>\n",
       "      <td>0</td>\n",
       "      <td>0</td>\n",
       "      <td>0</td>\n",
       "      <td>0</td>\n",
       "      <td>...</td>\n",
       "      <td>0</td>\n",
       "      <td>0</td>\n",
       "      <td>0</td>\n",
       "      <td>0</td>\n",
       "      <td>0</td>\n",
       "      <td>0</td>\n",
       "      <td>0</td>\n",
       "      <td>0</td>\n",
       "      <td>0</td>\n",
       "      <td>Fungal infection</td>\n",
       "    </tr>\n",
       "    <tr>\n",
       "      <th>4</th>\n",
       "      <td>1</td>\n",
       "      <td>1</td>\n",
       "      <td>1</td>\n",
       "      <td>0</td>\n",
       "      <td>0</td>\n",
       "      <td>0</td>\n",
       "      <td>0</td>\n",
       "      <td>0</td>\n",
       "      <td>0</td>\n",
       "      <td>0</td>\n",
       "      <td>...</td>\n",
       "      <td>0</td>\n",
       "      <td>0</td>\n",
       "      <td>0</td>\n",
       "      <td>0</td>\n",
       "      <td>0</td>\n",
       "      <td>0</td>\n",
       "      <td>0</td>\n",
       "      <td>0</td>\n",
       "      <td>0</td>\n",
       "      <td>Fungal infection</td>\n",
       "    </tr>\n",
       "  </tbody>\n",
       "</table>\n",
       "<p>5 rows × 133 columns</p>\n",
       "</div>"
      ],
      "text/plain": [
       "   itching  skin_rash  nodal_skin_eruptions  continuous_sneezing  shivering  \\\n",
       "0        1          1                     1                    0          0   \n",
       "1        0          1                     1                    0          0   \n",
       "2        1          0                     1                    0          0   \n",
       "3        1          1                     0                    0          0   \n",
       "4        1          1                     1                    0          0   \n",
       "\n",
       "   chills  joint_pain  stomach_pain  acidity  ulcers_on_tongue  \\\n",
       "0       0           0             0        0                 0   \n",
       "1       0           0             0        0                 0   \n",
       "2       0           0             0        0                 0   \n",
       "3       0           0             0        0                 0   \n",
       "4       0           0             0        0                 0   \n",
       "\n",
       "         ...         blackheads  scurring  skin_peeling  silver_like_dusting  \\\n",
       "0        ...                  0         0             0                    0   \n",
       "1        ...                  0         0             0                    0   \n",
       "2        ...                  0         0             0                    0   \n",
       "3        ...                  0         0             0                    0   \n",
       "4        ...                  0         0             0                    0   \n",
       "\n",
       "   small_dents_in_nails  inflammatory_nails  blister  red_sore_around_nose  \\\n",
       "0                     0                   0        0                     0   \n",
       "1                     0                   0        0                     0   \n",
       "2                     0                   0        0                     0   \n",
       "3                     0                   0        0                     0   \n",
       "4                     0                   0        0                     0   \n",
       "\n",
       "   yellow_crust_ooze         prognosis  \n",
       "0                  0  Fungal infection  \n",
       "1                  0  Fungal infection  \n",
       "2                  0  Fungal infection  \n",
       "3                  0  Fungal infection  \n",
       "4                  0  Fungal infection  \n",
       "\n",
       "[5 rows x 133 columns]"
      ]
     },
     "execution_count": 5,
     "metadata": {},
     "output_type": "execute_result"
    }
   ],
   "source": [
    "# Load Training data\n",
    "df = pd.read_csv('data/clean/Training.csv')\n",
    "\n",
    "df.head()"
   ]
  },
  {
   "cell_type": "code",
   "execution_count": 6,
   "metadata": {
    "collapsed": true
   },
   "outputs": [],
   "source": [
    "X = df.iloc[:, :-1]\n",
    "y = df['prognosis']"
   ]
  },
  {
   "cell_type": "code",
   "execution_count": 7,
   "metadata": {
    "collapsed": true
   },
   "outputs": [],
   "source": [
    "# Train, Test split\n",
    "from sklearn.model_selection import train_test_split\n",
    "\n",
    "X_train, X_test, y_train, y_test = train_test_split(X, y, test_size=0.3, random_state=20)"
   ]
  },
  {
   "cell_type": "code",
   "execution_count": 8,
   "metadata": {
    "collapsed": true
   },
   "outputs": [],
   "source": [
    "# Random Forest Classifier\n",
    "from sklearn.ensemble import RandomForestClassifier\n",
    "\n",
    "rf_clf = RandomForestClassifier()"
   ]
  },
  {
   "cell_type": "code",
   "execution_count": 9,
   "metadata": {},
   "outputs": [
    {
     "name": "stdout",
     "output_type": "stream",
     "text": [
      "Accuracy on split test:  1.0\n"
     ]
    }
   ],
   "source": [
    "rf_clf.fit(X_train, y_train)\n",
    "\n",
    "print(\"Accuracy on split test: \", rf_clf.score(X_test,y_test))"
   ]
  },
  {
   "cell_type": "code",
   "execution_count": 10,
   "metadata": {
    "collapsed": true
   },
   "outputs": [],
   "source": [
    "# Load real test data\n",
    "df_test = pd.read_csv('data/clean/Testing.csv')"
   ]
  },
  {
   "cell_type": "code",
   "execution_count": 11,
   "metadata": {
    "collapsed": true
   },
   "outputs": [],
   "source": [
    "X_acutal_test = df_test.iloc[:, :-1]\n",
    "y_actual_test = df_test['prognosis']"
   ]
  },
  {
   "cell_type": "code",
   "execution_count": 12,
   "metadata": {},
   "outputs": [
    {
     "name": "stdout",
     "output_type": "stream",
     "text": [
      "Accuracy on acutal test:  1.0\n"
     ]
    }
   ],
   "source": [
    "print(\"Accuracy on acutal test: \", rf_clf.score(X_acutal_test, y_actual_test))"
   ]
  },
  {
   "cell_type": "code",
   "execution_count": 13,
   "metadata": {
    "collapsed": true
   },
   "outputs": [],
   "source": [
    "symptoms_dict = {}\n",
    "\n",
    "for index, symptom in enumerate(X):\n",
    "    symptoms_dict[symptom] = index"
   ]
  },
  {
   "cell_type": "code",
   "execution_count": 14,
   "metadata": {},
   "outputs": [
    {
     "data": {
      "text/plain": [
       "{'abdominal_pain': 39,\n",
       " 'abnormal_menstruation': 101,\n",
       " 'acidity': 8,\n",
       " 'acute_liver_failure': 44,\n",
       " 'altered_sensorium': 98,\n",
       " 'anxiety': 16,\n",
       " 'back_pain': 37,\n",
       " 'belly_pain': 100,\n",
       " 'blackheads': 123,\n",
       " 'bladder_discomfort': 89,\n",
       " 'blister': 129,\n",
       " 'blood_in_sputum': 118,\n",
       " 'bloody_stool': 61,\n",
       " 'blurred_and_distorted_vision': 49,\n",
       " 'breathlessness': 27,\n",
       " 'brittle_nails': 72,\n",
       " 'bruising': 66,\n",
       " 'burning_micturition': 12,\n",
       " 'chest_pain': 56,\n",
       " 'chills': 5,\n",
       " 'cold_hands_and_feets': 17,\n",
       " 'coma': 113,\n",
       " 'congestion': 55,\n",
       " 'constipation': 38,\n",
       " 'continuous_feel_of_urine': 91,\n",
       " 'continuous_sneezing': 3,\n",
       " 'cough': 24,\n",
       " 'cramps': 65,\n",
       " 'dark_urine': 33,\n",
       " 'dehydration': 29,\n",
       " 'depression': 95,\n",
       " 'diarrhoea': 40,\n",
       " 'dischromic _patches': 102,\n",
       " 'distention_of_abdomen': 115,\n",
       " 'dizziness': 64,\n",
       " 'drying_and_tingling_lips': 76,\n",
       " 'enlarged_thyroid': 71,\n",
       " 'excessive_hunger': 74,\n",
       " 'extra_marital_contacts': 75,\n",
       " 'family_history': 106,\n",
       " 'fast_heart_rate': 58,\n",
       " 'fatigue': 14,\n",
       " 'fluid_overload': 45,\n",
       " 'fluid_overload.1': 117,\n",
       " 'foul_smell_of urine': 90,\n",
       " 'headache': 31,\n",
       " 'high_fever': 25,\n",
       " 'hip_joint_pain': 79,\n",
       " 'history_of_alcohol_consumption': 116,\n",
       " 'increased_appetite': 104,\n",
       " 'indigestion': 30,\n",
       " 'inflammatory_nails': 128,\n",
       " 'internal_itching': 93,\n",
       " 'irregular_sugar_level': 23,\n",
       " 'irritability': 96,\n",
       " 'irritation_in_anus': 62,\n",
       " 'itching': 0,\n",
       " 'joint_pain': 6,\n",
       " 'knee_pain': 78,\n",
       " 'lack_of_concentration': 109,\n",
       " 'lethargy': 21,\n",
       " 'loss_of_appetite': 35,\n",
       " 'loss_of_balance': 85,\n",
       " 'loss_of_smell': 88,\n",
       " 'malaise': 48,\n",
       " 'mild_fever': 41,\n",
       " 'mood_swings': 18,\n",
       " 'movement_stiffness': 83,\n",
       " 'mucoid_sputum': 107,\n",
       " 'muscle_pain': 97,\n",
       " 'muscle_wasting': 10,\n",
       " 'muscle_weakness': 80,\n",
       " 'nausea': 34,\n",
       " 'neck_pain': 63,\n",
       " 'nodal_skin_eruptions': 2,\n",
       " 'obesity': 67,\n",
       " 'pain_behind_the_eyes': 36,\n",
       " 'pain_during_bowel_movements': 59,\n",
       " 'pain_in_anal_region': 60,\n",
       " 'painful_walking': 121,\n",
       " 'palpitations': 120,\n",
       " 'passage_of_gases': 92,\n",
       " 'patches_in_throat': 22,\n",
       " 'phlegm': 50,\n",
       " 'polyuria': 105,\n",
       " 'prominent_veins_on_calf': 119,\n",
       " 'puffy_face_and_eyes': 70,\n",
       " 'pus_filled_pimples': 122,\n",
       " 'receiving_blood_transfusion': 111,\n",
       " 'receiving_unsterile_injections': 112,\n",
       " 'red_sore_around_nose': 130,\n",
       " 'red_spots_over_body': 99,\n",
       " 'redness_of_eyes': 52,\n",
       " 'restlessness': 20,\n",
       " 'runny_nose': 54,\n",
       " 'rusty_sputum': 108,\n",
       " 'scurring': 124,\n",
       " 'shivering': 4,\n",
       " 'silver_like_dusting': 126,\n",
       " 'sinus_pressure': 53,\n",
       " 'skin_peeling': 125,\n",
       " 'skin_rash': 1,\n",
       " 'slurred_speech': 77,\n",
       " 'small_dents_in_nails': 127,\n",
       " 'spinning_movements': 84,\n",
       " 'spotting_ urination': 13,\n",
       " 'stiff_neck': 81,\n",
       " 'stomach_bleeding': 114,\n",
       " 'stomach_pain': 7,\n",
       " 'sunken_eyes': 26,\n",
       " 'sweating': 28,\n",
       " 'swelled_lymph_nodes': 47,\n",
       " 'swelling_joints': 82,\n",
       " 'swelling_of_stomach': 46,\n",
       " 'swollen_blood_vessels': 69,\n",
       " 'swollen_extremeties': 73,\n",
       " 'swollen_legs': 68,\n",
       " 'throat_irritation': 51,\n",
       " 'toxic_look_(typhos)': 94,\n",
       " 'ulcers_on_tongue': 9,\n",
       " 'unsteadiness': 86,\n",
       " 'visual_disturbances': 110,\n",
       " 'vomiting': 11,\n",
       " 'watering_from_eyes': 103,\n",
       " 'weakness_in_limbs': 57,\n",
       " 'weakness_of_one_body_side': 87,\n",
       " 'weight_gain': 15,\n",
       " 'weight_loss': 19,\n",
       " 'yellow_crust_ooze': 131,\n",
       " 'yellow_urine': 42,\n",
       " 'yellowing_of_eyes': 43,\n",
       " 'yellowish_skin': 32}"
      ]
     },
     "execution_count": 14,
     "metadata": {},
     "output_type": "execute_result"
    }
   ],
   "source": [
    "symptoms_dict"
   ]
  },
  {
   "cell_type": "code",
   "execution_count": 15,
   "metadata": {
    "collapsed": true
   },
   "outputs": [],
   "source": [
    "input_vector = np.zeros(len(symptoms_dict))"
   ]
  },
  {
   "cell_type": "code",
   "execution_count": 24,
   "metadata": {},
   "outputs": [],
   "source": [
    "input_vector[[symptoms_dict['cramps'], symptoms_dict['cough']]] = 1"
   ]
  },
  {
   "cell_type": "code",
   "execution_count": 25,
   "metadata": {},
   "outputs": [
    {
     "data": {
      "text/plain": [
       "array([[ 0. ,  0. ,  0. ,  0. ,  0.1,  0. ,  0.1,  0.1,  0. ,  0. ,  0. ,\n",
       "         0. ,  0. ,  0. ,  0. ,  0. ,  0.4,  0. ,  0. ,  0. ,  0. ,  0. ,\n",
       "         0.1,  0. ,  0. ,  0. ,  0. ,  0. ,  0. ,  0. ,  0. ,  0. ,  0. ,\n",
       "         0. ,  0. ,  0.1,  0. ,  0. ,  0. ,  0.1,  0. ]])"
      ]
     },
     "execution_count": 25,
     "metadata": {},
     "output_type": "execute_result"
    }
   ],
   "source": [
    "rf_clf.predict_proba([input_vector])"
   ]
  },
  {
   "cell_type": "code",
   "execution_count": 26,
   "metadata": {},
   "outputs": [
    {
     "data": {
      "text/plain": [
       "array(['GERD'], dtype=object)"
      ]
     },
     "execution_count": 26,
     "metadata": {},
     "output_type": "execute_result"
    }
   ],
   "source": [
    "rf_clf.predict([input_vector])"
   ]
  }
 ],
 "metadata": {
  "kernelspec": {
   "display_name": "Python 3",
   "language": "python",
   "name": "python3"
  },
  "language_info": {
   "codemirror_mode": {
    "name": "ipython",
    "version": 3
   },
   "file_extension": ".py",
   "mimetype": "text/x-python",
   "name": "python",
   "nbconvert_exporter": "python",
   "pygments_lexer": "ipython3",
   "version": "3.6.5"
  }
 },
 "nbformat": 4,
 "nbformat_minor": 2
}
